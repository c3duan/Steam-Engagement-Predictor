{
 "cells": [
  {
   "cell_type": "code",
   "execution_count": 1,
   "metadata": {
    "collapsed": true
   },
   "outputs": [],
   "source": [
    "import random"
   ]
  },
  {
   "cell_type": "markdown",
   "metadata": {},
   "source": [
    "# Sample Mapper"
   ]
  },
  {
   "cell_type": "markdown",
   "metadata": {},
   "source": [
    "source: https://github.com/gamboviol/bpr/blob/master/bdoopr.py"
   ]
  },
  {
   "cell_type": "markdown",
   "metadata": {},
   "source": [
    "Map-reduce algorithm to create a schedule of BPR samples.\n",
    "The probability of emitting a candidate positive item\n",
    "in the first mapper is designed to give a uniform\n",
    "probability of any item in the dataset being output\n",
    "as the positive item in the final list of triples."
   ]
  },
  {
   "cell_type": "code",
   "execution_count": 2,
   "metadata": {
    "collapsed": true
   },
   "outputs": [],
   "source": [
    "class Mapper:\n",
    "\n",
    "    def __init__(self, user_item_counts, oversampling=1):\n",
    "        self.N = sum(user_item_counts.values())  # number of non-zeros\n",
    "        self.user_item_counts = user_item_counts\n",
    "        self.max_item_count = max(user_item_counts.values())\n",
    "        self.oversampling = oversampling\n",
    "\n",
    "    def sample_positive(self, user):\n",
    "        alpha = float(self.N - self.max_item_count) / (self.N - self.user_item_counts[user])\n",
    "        return random.uniform(0,1) < alpha\n",
    "\n",
    "    def random_index(self):\n",
    "        return random.randint(0, self.N * self.oversampling)\n",
    "\n",
    "    # use yield to take less memory\n",
    "    def __call__(self, user, item):\n",
    "        # send candidate items to random indices\n",
    "        for _ in range(self.oversampling):\n",
    "            if self.sample_positive(user):\n",
    "                # propose a candidate positive item\n",
    "                yield self.random_index(), (user, item, '+')\n",
    "            # propose a candidate negative item\n",
    "            yield self.random_index(), (user, item, '-')"
   ]
  },
  {
   "cell_type": "code",
   "execution_count": 3,
   "metadata": {
    "collapsed": true
   },
   "outputs": [],
   "source": [
    "def reducer(index, values):\n",
    "    # sample a positive and negative item uniformly to make a candidate triple\n",
    "    seen = {'+': [], '-': []}\n",
    "    for user, item, label in values:\n",
    "        seen[label].append((user, item))\n",
    "    if seen['+'] and seen['-']:\n",
    "        # we've got at least one postive and one negative item, now pick one\n",
    "        pos = random.choice(seen['+'])\n",
    "        neg = random.choice(seen['-'])\n",
    "        yield (pos[0], neg[1]), pos[1]  # candidate triple as (u,j),i"
   ]
  },
  {
   "cell_type": "code",
   "execution_count": 4,
   "metadata": {
    "collapsed": true
   },
   "outputs": [],
   "source": [
    "# a indicator used to check whether J is unpurchased/unengaged item\n",
    "J_IS_POSITIVE = '-'"
   ]
  },
  {
   "cell_type": "code",
   "execution_count": 5,
   "metadata": {
    "collapsed": true
   },
   "outputs": [],
   "source": [
    "def indicator_mapper(user, item):\n",
    "    # map the data again with an indicator value\n",
    "    # to help us spot negative items in candidate triples\n",
    "    yield (user, item), J_IS_POSITIVE"
   ]
  },
  {
   "cell_type": "code",
   "execution_count": 6,
   "metadata": {
    "collapsed": true
   },
   "outputs": [],
   "source": [
    "def indicator_reducer(key, values):\n",
    "    user, j = key\n",
    "    values = list(values)\n",
    "    # check the positive items\n",
    "    ii = set(i for i in values if i != J_IS_POSITIVE)\n",
    "    if len(ii) == len(values):\n",
    "        # j really is a negative item for u\n",
    "        for i in ii:\n",
    "            yield user, (i, j)"
   ]
  },
  {
   "cell_type": "markdown",
   "metadata": {},
   "source": [
    "# Map Processor"
   ]
  },
  {
   "cell_type": "markdown",
   "metadata": {},
   "source": [
    "Python map-reduce implementation for testing and\n",
    "proof-of-concept experiments.\n",
    "Use it like this:\n",
    "    first define your mapper and reducer functions\n",
    "    they should be generators i.e. use \"yield\" and\n",
    "    not \"return\"\n",
    "    \n",
    "    def mapper(key,val):\n",
    "        # can yield multiple k,v pairs for each input\n",
    "        yield key,val**2\n",
    "        yield key,val**3\n",
    "        \n",
    "    def reducer(key,vals):\n",
    "        yield key,sum(vals)\n",
    "    \n",
    "    now run the job!\n",
    "    mapreduce(infile,outfile,mapper=mapper,reducer=reducer)\n",
    "You can specify a custom parser to read your input,\n",
    "and a custom formatter to format your output.  The\n",
    "default_parser and default_formatter read and write\n",
    "tsv."
   ]
  },
  {
   "cell_type": "code",
   "execution_count": 7,
   "metadata": {
    "collapsed": true
   },
   "outputs": [],
   "source": [
    "from itertools import chain"
   ]
  },
  {
   "cell_type": "code",
   "execution_count": 10,
   "metadata": {
    "collapsed": true
   },
   "outputs": [],
   "source": [
    "def default_parser(line):\n",
    "    \"\"\"read tab-separated key, val from line\"\"\"\n",
    "    return map(eval, line.strip().split('\\t'))"
   ]
  },
  {
   "cell_type": "code",
   "execution_count": 11,
   "metadata": {
    "collapsed": true
   },
   "outputs": [],
   "source": [
    "def default_formatter(key, val):\n",
    "    \"\"\"format key, val as tsv\"\"\"\n",
    "    if isinstance(key, str):\n",
    "        key = \"'\" + key + \"'\"\n",
    "    if isinstance(val, str):\n",
    "        val = \"'\" + val + \"'\"\n",
    "    return '{0}\\t{1}'.format(key, val)"
   ]
  },
  {
   "cell_type": "code",
   "execution_count": 12,
   "metadata": {
    "collapsed": true
   },
   "outputs": [],
   "source": [
    "def identity_mapper(key, val):\n",
    "    \"\"\"output key, val without change\"\"\"\n",
    "    yield key, val"
   ]
  },
  {
   "cell_type": "code",
   "execution_count": 13,
   "metadata": {
    "collapsed": true
   },
   "outputs": [],
   "source": [
    "def identity_reducer(key, vals):\n",
    "    \"\"\"output key, val for each value in vals\"\"\"\n",
    "    for val in vals:\n",
    "        yield key, val"
   ]
  },
  {
   "cell_type": "code",
   "execution_count": 15,
   "metadata": {},
   "outputs": [],
   "source": [
    "def mapreduce(infile,\n",
    "              outfile,\n",
    "              parser = default_parser,\n",
    "              formatter = default_formatter,\n",
    "              mapper = identity_mapper,\n",
    "              reducer = None):\n",
    "    \"\"\"run map-reduce job specified by mapper and reducer generator functions\"\"\"\n",
    "\n",
    "    out = open(outfile,'w')\n",
    "    if not isinstance(infile, list):\n",
    "        infile = [infile]\n",
    "    map_out = chain.from_iterable(chain.from_iterable(mapper(*parser(line)) for line in open(f)) \\\n",
    "                  for f in infile)\n",
    "\n",
    "    if reducer:\n",
    "        last_key = None\n",
    "        vals = []\n",
    "        for key, val in sorted((k, v) for k, v in map_out):\n",
    "            if key != last_key:\n",
    "                if last_key is not None:\n",
    "                    for k, v in reducer(last_key, vals):\n",
    "                        print(formatter(k, v), file=out)\n",
    "                last_key = key\n",
    "                vals = []\n",
    "            vals.append(val)\n",
    "        for k, v in reducer(last_key, vals):\n",
    "            print(formatter(k, v), file=out)\n",
    "    else:\n",
    "        for key, val in map_out:\n",
    "            print(formatter(key, val), file=out)"
   ]
  },
  {
   "cell_type": "code",
   "execution_count": null,
   "metadata": {
    "collapsed": true
   },
   "outputs": [],
   "source": []
  }
 ],
 "metadata": {
  "kernelspec": {
   "display_name": "Python 3",
   "language": "python",
   "name": "python3"
  },
  "language_info": {
   "codemirror_mode": {
    "name": "ipython",
    "version": 3
   },
   "file_extension": ".py",
   "mimetype": "text/x-python",
   "name": "python",
   "nbconvert_exporter": "python",
   "pygments_lexer": "ipython3",
   "version": "3.6.3"
  }
 },
 "nbformat": 4,
 "nbformat_minor": 2
}
