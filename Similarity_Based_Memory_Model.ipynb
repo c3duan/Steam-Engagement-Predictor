{
 "cells": [
  {
   "cell_type": "code",
   "execution_count": 1,
   "metadata": {},
   "outputs": [],
   "source": [
    "import numpy as np\n",
    "import pandas as pd\n",
    "import json\n",
    "import ast\n",
    "import os\n",
    "import math\n",
    "import statistics\n",
    "import sklearn\n",
    "import scipy.spatial\n",
    "from collections import defaultdict\n",
    "from collections import Counter"
   ]
  },
  {
   "cell_type": "code",
   "execution_count": 2,
   "metadata": {},
   "outputs": [],
   "source": [
    "notebook_path = os.path.abspath(\"Similarity_Based_Memory_Model.ipynb\")\n",
    "users_items_file_path = os.path.join(os.path.dirname(notebook_path), \"data/australian_users_items.json\")\n",
    "items_file_path = os.path.join(os.path.dirname(notebook_path), \"data/items_meta_data.json\")"
   ]
  },
  {
   "cell_type": "code",
   "execution_count": 3,
   "metadata": {},
   "outputs": [],
   "source": [
    "users_items = []\n",
    "with open(users_items_file_path, 'r') as data:\n",
    "    for line in data:\n",
    "        users_items.append(ast.literal_eval(line))"
   ]
  },
  {
   "cell_type": "code",
   "execution_count": 4,
   "metadata": {},
   "outputs": [],
   "source": [
    "with open(items_file_path, 'r') as data:\n",
    "    games_dict = json.load(data)"
   ]
  },
  {
   "cell_type": "code",
   "execution_count": 5,
   "metadata": {},
   "outputs": [],
   "source": [
    "usersPerItem = defaultdict(set)\n",
    "itemsPerUser = defaultdict(set)\n",
    "playtimesPerItem = defaultdict(list)\n",
    "playtimesPerUser = defaultdict(list)\n",
    "itemNames = defaultdict(str)"
   ]
  },
  {
   "cell_type": "code",
   "execution_count": 6,
   "metadata": {},
   "outputs": [],
   "source": [
    "for game in games_dict:\n",
    "    if 'owners' in games_dict[game]:\n",
    "        usersPerItem[game] = set(games_dict[game]['owners'].keys())\n",
    "        for owner in games_dict[game]['owners']:\n",
    "            playtimesPerItem[game].append(games_dict[game]['owners'][owner])\n",
    "            playtimesPerUser[owner].append(games_dict[game]['owners'][owner])"
   ]
  },
  {
   "cell_type": "code",
   "execution_count": 7,
   "metadata": {},
   "outputs": [],
   "source": [
    "for user in users_items:\n",
    "    itemsPerUser[user['user_id']] = [item['item_id'] for item in user['items']]\n",
    "    for item in user['items']:\n",
    "        itemNames[item['item_id']] = item['item_name']"
   ]
  },
  {
   "cell_type": "markdown",
   "metadata": {},
   "source": [
    "# Similarity-Based Recommendations"
   ]
  },
  {
   "cell_type": "code",
   "execution_count": 44,
   "metadata": {},
   "outputs": [],
   "source": [
    "def isEmpty(game_a_id, game_b_id):\n",
    "    return len(usersPerItem[game_a_id]) == 0 or len(usersPerItem[game_b_id]) == 0"
   ]
  },
  {
   "cell_type": "code",
   "execution_count": 45,
   "metadata": {},
   "outputs": [],
   "source": [
    "def mostSimilar(game_a_id, sim):\n",
    "    similarities = []\n",
    "    for game_b_id in games_dict:\n",
    "        if game_b_id == game_a_id: continue\n",
    "        similarity = sim(game_a_id, game_b_id)\n",
    "        similarities.append((similarity, game_b_id))\n",
    "    similarities.sort(reverse=True)\n",
    "    return similarities[:10]"
   ]
  },
  {
   "cell_type": "code",
   "execution_count": 46,
   "metadata": {},
   "outputs": [],
   "source": [
    "def mostSimilarNames(similarities):\n",
    "    return [itemNames[sim[1]] for sim in similarities]"
   ]
  },
  {
   "cell_type": "markdown",
   "metadata": {},
   "source": [
    "## Jaccard Similarity"
   ]
  },
  {
   "cell_type": "markdown",
   "metadata": {},
   "source": [
    "This is a generic implementation of the Jaccard similarity between two items: we find the union and intersection between their owners "
   ]
  },
  {
   "cell_type": "code",
   "execution_count": 47,
   "metadata": {},
   "outputs": [],
   "source": [
    "def jaccard(game_a_id, game_b_id):\n",
    "    if isEmpty(game_a_id, game_b_id):\n",
    "        return 0\n",
    "    \n",
    "    owners_a = usersPerItem[game_a_id]\n",
    "    owners_b = usersPerItem[game_b_id]\n",
    "    \n",
    "    intersect_owners = owners_a.intersection(owners_b)\n",
    "    union_owners = owners_a.union(owners_b)\n",
    "    \n",
    "    return len(intersect_owners) / len(union_owners)"
   ]
  },
  {
   "cell_type": "code",
   "execution_count": 48,
   "metadata": {},
   "outputs": [],
   "source": [
    "def mostSimilarJaccardFast(game_a_id):\n",
    "    similarities = []\n",
    "    users = usersPerItem[game_a_id]\n",
    "    candidateItems = set()\n",
    "    for user_id in users:\n",
    "        candidateItems = candidateItems.union(itemsPerUser[user_id])\n",
    "    for game_b_id in candidateItems:\n",
    "        if game_b_id == game_a_id: continue\n",
    "        sim = jaccard(game_a_id, game_b_id)\n",
    "        similarities.append((sim, game_b_id))\n",
    "    similarities.sort(reverse=True)\n",
    "    return similarities[:10]"
   ]
  },
  {
   "cell_type": "code",
   "execution_count": 49,
   "metadata": {},
   "outputs": [
    {
     "data": {
      "text/plain": [
       "['Half-Life: Blue Shift',\n",
       " 'Half-Life: Opposing Force',\n",
       " 'Team Fortress Classic',\n",
       " 'Half-Life: Source',\n",
       " 'Half-Life 2: Episode Two',\n",
       " 'Half-Life Deathmatch: Source',\n",
       " 'Half-Life 2: Episode One',\n",
       " 'Half-Life 2: Deathmatch',\n",
       " 'Half-Life 2',\n",
       " 'Half-Life 2: Lost Coast']"
      ]
     },
     "execution_count": 49,
     "metadata": {},
     "output_type": "execute_result"
    }
   ],
   "source": [
    "mostSimilarNames(mostSimilar('70', jaccard))"
   ]
  },
  {
   "cell_type": "code",
   "execution_count": 50,
   "metadata": {},
   "outputs": [
    {
     "data": {
      "text/plain": [
       "['Half-Life: Blue Shift',\n",
       " 'Half-Life: Opposing Force',\n",
       " 'Team Fortress Classic',\n",
       " 'Half-Life: Source',\n",
       " 'Half-Life 2: Episode Two',\n",
       " 'Half-Life Deathmatch: Source',\n",
       " 'Half-Life 2: Episode One',\n",
       " 'Half-Life 2: Deathmatch',\n",
       " 'Half-Life 2',\n",
       " 'Half-Life 2: Lost Coast']"
      ]
     },
     "execution_count": 50,
     "metadata": {},
     "output_type": "execute_result"
    }
   ],
   "source": [
    "mostSimilarNames(mostSimilarJaccardFast('70'))"
   ]
  },
  {
   "cell_type": "markdown",
   "metadata": {},
   "source": [
    "## Cosine Similarity"
   ]
  },
  {
   "cell_type": "code",
   "execution_count": 51,
   "metadata": {},
   "outputs": [],
   "source": [
    "def count(game_a_id, game_b_id):\n",
    "    owners_a = usersPerItem[game_a_id]\n",
    "    owners_b = usersPerItem[game_b_id]\n",
    "    \n",
    "    counter_a = Counter(owners_a)\n",
    "    counter_b = Counter(owners_b)\n",
    "    \n",
    "    owners = owners_a.union(owners_b)\n",
    "    \n",
    "    return counter_a, counter_b, owners"
   ]
  },
  {
   "cell_type": "code",
   "execution_count": 52,
   "metadata": {},
   "outputs": [],
   "source": [
    "def cosine(game_a_id, game_b_id):\n",
    "    if isEmpty(game_a_id, game_b_id):\n",
    "        return 0\n",
    "    \n",
    "    counter_a, counter_b, terms = count(game_a_id, game_b_id)\n",
    "    magA = np.array([counter_a.get(k, 0) for k in terms])\n",
    "    magB = np.array([counter_b.get(k, 0) for k in terms])\n",
    "    \n",
    "    \n",
    "    return scipy.spatial.distance.cosine(magA, magB)"
   ]
  },
  {
   "cell_type": "code",
   "execution_count": 53,
   "metadata": {},
   "outputs": [
    {
     "data": {
      "text/plain": [
       "['Attack on Pearl Harbor',\n",
       " 'Simplz Zoo',\n",
       " \"Grim Tales: The Bride Collector's Edition\",\n",
       " 'CloudBound',\n",
       " 'Thick Air',\n",
       " 'Microcosmum: survival of cells - Soundtrack',\n",
       " \"Dark Parables: Curse of Briar Rose Collector's Edition\",\n",
       " 'Footbrawl Playground',\n",
       " 'Eclipse: New Dawn for the Galaxy',\n",
       " 'Toadled']"
      ]
     },
     "execution_count": 53,
     "metadata": {},
     "output_type": "execute_result"
    }
   ],
   "source": [
    "mostSimilarNames(mostSimilar('70', cosine))"
   ]
  },
  {
   "cell_type": "markdown",
   "metadata": {},
   "source": [
    "## Pearson Correlation"
   ]
  },
  {
   "cell_type": "code",
   "execution_count": 68,
   "metadata": {},
   "outputs": [],
   "source": [
    "def valueVocab(vocabs):\n",
    "    dictionary = {}\n",
    "    for index, vocab in enumerate(vocabs):\n",
    "        dictionary[vocab] = index\n",
    "    return dictionary"
   ]
  },
  {
   "cell_type": "code",
   "execution_count": 72,
   "metadata": {},
   "outputs": [],
   "source": [
    "def count(game_a_id, game_b_id):\n",
    "    owners_a = usersPerItem[game_a_id]\n",
    "    owners_b = usersPerItem[game_b_id]\n",
    "    \n",
    "    counter_a = Counter(owners_a)\n",
    "    counter_b = Counter(owners_b)\n",
    "    \n",
    "    owners = owners_a.union(owners_b)\n",
    "    owners_dict = valueVocab(owners)\n",
    "    counter_a = dict((x,owners_dict[x]*y) for x,y in counter_a.items())\n",
    "    counter_b = dict((x,owners_dict[x]*y) for x,y in counter_b.items())\n",
    "\n",
    "    return counter_a, counter_b, owners"
   ]
  },
  {
   "cell_type": "code",
   "execution_count": 73,
   "metadata": {},
   "outputs": [],
   "source": [
    "def pearson(game_a_id, game_b_id):\n",
    "    if isEmpty(game_a_id, game_b_id):\n",
    "        return 0\n",
    "            \n",
    "    counter_a, counter_b, terms = count(game_a_id, game_b_id)\n",
    "    magA = np.array([counter_a.get(k, 0) for k in terms])\n",
    "    magB = np.array([counter_b.get(k, 0) for k in terms])\n",
    "    return np.corrcoef(magA, magB)[0, 1]"
   ]
  },
  {
   "cell_type": "code",
   "execution_count": 74,
   "metadata": {},
   "outputs": [
    {
     "data": {
      "text/plain": [
       "['Half-Life: Blue Shift',\n",
       " 'Half-Life: Opposing Force',\n",
       " 'Team Fortress Classic',\n",
       " 'Half-Life: Source',\n",
       " 'Half-Life 2: Lost Coast',\n",
       " 'Half-Life 2',\n",
       " 'Half-Life 2: Deathmatch',\n",
       " 'Half-Life Deathmatch: Source',\n",
       " 'Half-Life 2: Episode One',\n",
       " 'Half-Life 2: Episode Two']"
      ]
     },
     "execution_count": 74,
     "metadata": {},
     "output_type": "execute_result"
    }
   ],
   "source": [
    "mostSimilarNames(mostSimilar('70', pearson))"
   ]
  },
  {
   "cell_type": "markdown",
   "metadata": {},
   "source": [
    "# Similarity Playtime Estimation"
   ]
  },
  {
   "cell_type": "markdown",
   "metadata": {},
   "source": [
    "We can also use the similarity-based recommender we developed above to make predictions about user's playtime. Although this is not an example of machine learning, it is a simple heuristic that can be used to estimate a user's future playtime based on their playtime in the past.\n",
    "\n",
    "Specifically, a user's playtime for an item is assumed to be a weighted sum of their previous playtime, weighted by how similar the query item is to each of their previous purchases.\n",
    "\n",
    "Use median playtime and mean playtime as base line percision "
   ]
  },
  {
   "cell_type": "code",
   "execution_count": 75,
   "metadata": {},
   "outputs": [],
   "source": [
    "def arrayToDict(array, keyStr):\n",
    "    array_dict = {}\n",
    "    for element in array:\n",
    "        array_dict[element[keyStr]] = element\n",
    "    return array_dict"
   ]
  },
  {
   "cell_type": "code",
   "execution_count": 76,
   "metadata": {},
   "outputs": [],
   "source": [
    "users_dict = arrayToDict(users_items, 'user_id')"
   ]
  },
  {
   "cell_type": "code",
   "execution_count": 77,
   "metadata": {},
   "outputs": [],
   "source": [
    "def predictPlaytime(user, game_a, sim, default):\n",
    "    playtimes = []\n",
    "    similarities = []\n",
    "    for item in users_dict[user]['items']:\n",
    "        game_b = item['item_id']\n",
    "        if game_b == game_a: continue\n",
    "        playtimes.append(item['playtime_forever'])\n",
    "        similarities.append(sim(game_a, game_b))\n",
    "        \n",
    "    if (sum(similarities) > 0):\n",
    "        weightedPlaytime = [(x*y) for x,y in zip(playtimes, similarities)]\n",
    "        return sum(weightedPlaytime) / sum(similarities)\n",
    "    else:\n",
    "        return default"
   ]
  },
  {
   "cell_type": "code",
   "execution_count": 78,
   "metadata": {},
   "outputs": [],
   "source": [
    "def getPlaytime(users_items):\n",
    "    playtimes = []\n",
    "    for user in users_items:\n",
    "        for item in user['items']:\n",
    "            playtimes.append(item['playtime_forever'])\n",
    "            \n",
    "    return playtimes"
   ]
  },
  {
   "cell_type": "code",
   "execution_count": 87,
   "metadata": {},
   "outputs": [],
   "source": [
    "playtimes = getPlaytime(users_items)\n",
    "meanPlaytime = sum(playtimes) / len(playtimes)\n",
    "medianPlaytime = statistics.median(playtimes)"
   ]
  },
  {
   "cell_type": "code",
   "execution_count": 88,
   "metadata": {},
   "outputs": [],
   "source": [
    "def markLabel(game, playtime):\n",
    "    return 1 if (games_dict[game]['median_playtime'] <= playtime) else 0"
   ]
  },
  {
   "cell_type": "code",
   "execution_count": 91,
   "metadata": {},
   "outputs": [],
   "source": [
    "def getPairsAndLabels(users_items):\n",
    "    pairs = []\n",
    "    labels = []\n",
    "    for user in users_items:\n",
    "        for item in user['items']:\n",
    "            pairs.append((user['user_id'], item['item_id']))\n",
    "            labels.append(markLabel(item['item_id'], item['playtime_forever']))\n",
    "    return pairs, labels"
   ]
  },
  {
   "cell_type": "code",
   "execution_count": 96,
   "metadata": {},
   "outputs": [],
   "source": [
    "pairs, labels = getPairsAndLabels(users_items)"
   ]
  },
  {
   "cell_type": "code",
   "execution_count": 104,
   "metadata": {},
   "outputs": [
    {
     "data": {
      "text/plain": [
       "[('76561197970982479', '10'),\n",
       " ('76561197970982479', '20'),\n",
       " ('76561197970982479', '30'),\n",
       " ('76561197970982479', '40'),\n",
       " ('76561197970982479', '50'),\n",
       " ('76561197970982479', '60'),\n",
       " ('76561197970982479', '70'),\n",
       " ('76561197970982479', '130'),\n",
       " ('76561197970982479', '300'),\n",
       " ('76561197970982479', '240'),\n",
       " ('76561197970982479', '3830'),\n",
       " ('76561197970982479', '2630'),\n",
       " ('76561197970982479', '3900'),\n",
       " ('76561197970982479', '34440'),\n",
       " ('76561197970982479', '3920'),\n",
       " ('76561197970982479', '6400'),\n",
       " ('76561197970982479', '6910'),\n",
       " ('76561197970982479', '7670'),\n",
       " ('76561197970982479', '409710'),\n",
       " ('76561197970982479', '220'),\n",
       " ('76561197970982479', '320'),\n",
       " ('76561197970982479', '340'),\n",
       " ('76561197970982479', '360'),\n",
       " ('76561197970982479', '380'),\n",
       " ('76561197970982479', '400'),\n",
       " ('76561197970982479', '420'),\n",
       " ('76561197970982479', '9340'),\n",
       " ('76561197970982479', '228200'),\n",
       " ('76561197970982479', '11450'),\n",
       " ('76561197970982479', '7940'),\n",
       " ('76561197970982479', '4700'),\n",
       " ('76561197970982479', '12900'),\n",
       " ('76561197970982479', '13250'),\n",
       " ('76561197970982479', '16100'),\n",
       " ('76561197970982479', '15700'),\n",
       " ('76561197970982479', '15710'),\n",
       " ('76561197970982479', '17330'),\n",
       " ('76561197970982479', '17340'),\n",
       " ('76561197970982479', '22000'),\n",
       " ('76561197970982479', '500'),\n",
       " ('76561197970982479', '4560'),\n",
       " ('76561197970982479', '17460'),\n",
       " ('76561197970982479', '10500'),\n",
       " ('76561197970982479', '24740'),\n",
       " ('76561197970982479', '22200'),\n",
       " ('76561197970982479', '26800'),\n",
       " ('76561197970982479', '1250'),\n",
       " ('76561197970982479', '35420'),\n",
       " ('76561197970982479', '3590'),\n",
       " ('76561197970982479', '8880'),\n",
       " ('76561197970982479', '8890'),\n",
       " ('76561197970982479', '23120'),\n",
       " ('76561197970982479', '35700'),\n",
       " ('76561197970982479', '10140'),\n",
       " ('76561197970982479', '35010'),\n",
       " ('76561197970982479', '35140'),\n",
       " ('76561197970982479', '29180'),\n",
       " ('76561197970982479', '15520'),\n",
       " ('76561197970982479', '32370'),\n",
       " ('76561197970982479', '37700'),\n",
       " ('76561197970982479', '6020'),\n",
       " ('76561197970982479', '24860'),\n",
       " ('76561197970982479', '39530'),\n",
       " ('76561197970982479', '550'),\n",
       " ('76561197970982479', '223530'),\n",
       " ('76561197970982479', '8980'),\n",
       " ('76561197970982479', '41500'),\n",
       " ('76561197970982479', '20900'),\n",
       " ('76561197970982479', '10180'),\n",
       " ('76561197970982479', '10190'),\n",
       " ('76561197970982479', '17450'),\n",
       " ('76561197970982479', '3170'),\n",
       " ('76561197970982479', '25900'),\n",
       " ('76561197970982479', '31410'),\n",
       " ('76561197970982479', '24980'),\n",
       " ('76561197970982479', '8850'),\n",
       " ('76561197970982479', '409720'),\n",
       " ('76561197970982479', '46000'),\n",
       " ('76561197970982479', '33230'),\n",
       " ('76561197970982479', '20820'),\n",
       " ('76561197970982479', '47700'),\n",
       " ('76561197970982479', '24960'),\n",
       " ('76561197970982479', '43110'),\n",
       " ('76561197970982479', '8190'),\n",
       " ('76561197970982479', '49600'),\n",
       " ('76561197970982479', '31220'),\n",
       " ('76561197970982479', '31230'),\n",
       " ('76561197970982479', '31240'),\n",
       " ('76561197970982479', '31250'),\n",
       " ('76561197970982479', '31260'),\n",
       " ('76561197970982479', '21090'),\n",
       " ('76561197970982479', '21110'),\n",
       " ('76561197970982479', '21120'),\n",
       " ('76561197970982479', '49400'),\n",
       " ('76561197970982479', '33910'),\n",
       " ('76561197970982479', '33930'),\n",
       " ('76561197970982479', '219540'),\n",
       " ('76561197970982479', '17410'),\n",
       " ('76561197970982479', '205790'),\n",
       " ('76561197970982479', '50130')]"
      ]
     },
     "execution_count": 104,
     "metadata": {},
     "output_type": "execute_result"
    }
   ],
   "source": [
    "pairs[:100]"
   ]
  },
  {
   "cell_type": "code",
   "execution_count": 105,
   "metadata": {},
   "outputs": [
    {
     "data": {
      "text/plain": [
       "5153209"
      ]
     },
     "execution_count": 105,
     "metadata": {},
     "output_type": "execute_result"
    }
   ],
   "source": [
    "len(labels)"
   ]
  },
  {
   "cell_type": "code",
   "execution_count": 93,
   "metadata": {},
   "outputs": [],
   "source": [
    "def percision(predictions, labels):\n",
    "    differences = [1 if (x == y) else 0 for x,y in zip(predictions,labels)]\n",
    "    return sum(differences) / len(differences)"
   ]
  },
  {
   "cell_type": "code",
   "execution_count": 98,
   "metadata": {},
   "outputs": [],
   "source": [
    "meanPredictions = [markLabel(p[1], meanPlaytime) for p in pairs]"
   ]
  },
  {
   "cell_type": "code",
   "execution_count": 99,
   "metadata": {},
   "outputs": [],
   "source": [
    "medianPredictions = [markLabel(p[1], medianPlaytime) for p in pairs]"
   ]
  },
  {
   "cell_type": "code",
   "execution_count": 103,
   "metadata": {},
   "outputs": [
    {
     "ename": "KeyboardInterrupt",
     "evalue": "",
     "output_type": "error",
     "traceback": [
      "\u001b[0;31m---------------------------------------------------------------------------\u001b[0m",
      "\u001b[0;31mKeyboardInterrupt\u001b[0m                         Traceback (most recent call last)",
      "\u001b[0;32m<ipython-input-103-a4a58aa4090f>\u001b[0m in \u001b[0;36m<module>\u001b[0;34m\u001b[0m\n\u001b[0;32m----> 1\u001b[0;31m \u001b[0mjaccardPredictions\u001b[0m \u001b[0;34m=\u001b[0m \u001b[0;34m[\u001b[0m\u001b[0mmarkLabel\u001b[0m\u001b[0;34m(\u001b[0m\u001b[0mp\u001b[0m\u001b[0;34m[\u001b[0m\u001b[0;36m1\u001b[0m\u001b[0;34m]\u001b[0m\u001b[0;34m,\u001b[0m \u001b[0mpredictPlaytime\u001b[0m\u001b[0;34m(\u001b[0m\u001b[0mp\u001b[0m\u001b[0;34m[\u001b[0m\u001b[0;36m0\u001b[0m\u001b[0;34m]\u001b[0m\u001b[0;34m,\u001b[0m \u001b[0mp\u001b[0m\u001b[0;34m[\u001b[0m\u001b[0;36m1\u001b[0m\u001b[0;34m]\u001b[0m\u001b[0;34m,\u001b[0m \u001b[0mjaccard\u001b[0m\u001b[0;34m,\u001b[0m \u001b[0mmeanPlaytime\u001b[0m\u001b[0;34m)\u001b[0m\u001b[0;34m)\u001b[0m \u001b[0;32mfor\u001b[0m \u001b[0mp\u001b[0m \u001b[0;32min\u001b[0m \u001b[0mpairs\u001b[0m\u001b[0;34m]\u001b[0m\u001b[0;34m\u001b[0m\u001b[0;34m\u001b[0m\u001b[0m\n\u001b[0m",
      "\u001b[0;32m<ipython-input-103-a4a58aa4090f>\u001b[0m in \u001b[0;36m<listcomp>\u001b[0;34m(.0)\u001b[0m\n\u001b[0;32m----> 1\u001b[0;31m \u001b[0mjaccardPredictions\u001b[0m \u001b[0;34m=\u001b[0m \u001b[0;34m[\u001b[0m\u001b[0mmarkLabel\u001b[0m\u001b[0;34m(\u001b[0m\u001b[0mp\u001b[0m\u001b[0;34m[\u001b[0m\u001b[0;36m1\u001b[0m\u001b[0;34m]\u001b[0m\u001b[0;34m,\u001b[0m \u001b[0mpredictPlaytime\u001b[0m\u001b[0;34m(\u001b[0m\u001b[0mp\u001b[0m\u001b[0;34m[\u001b[0m\u001b[0;36m0\u001b[0m\u001b[0;34m]\u001b[0m\u001b[0;34m,\u001b[0m \u001b[0mp\u001b[0m\u001b[0;34m[\u001b[0m\u001b[0;36m1\u001b[0m\u001b[0;34m]\u001b[0m\u001b[0;34m,\u001b[0m \u001b[0mjaccard\u001b[0m\u001b[0;34m,\u001b[0m \u001b[0mmeanPlaytime\u001b[0m\u001b[0;34m)\u001b[0m\u001b[0;34m)\u001b[0m \u001b[0;32mfor\u001b[0m \u001b[0mp\u001b[0m \u001b[0;32min\u001b[0m \u001b[0mpairs\u001b[0m\u001b[0;34m]\u001b[0m\u001b[0;34m\u001b[0m\u001b[0;34m\u001b[0m\u001b[0m\n\u001b[0m",
      "\u001b[0;32m<ipython-input-77-ad40ff1a9d5a>\u001b[0m in \u001b[0;36mpredictPlaytime\u001b[0;34m(user, game_a, sim, default)\u001b[0m\n\u001b[1;32m      6\u001b[0m         \u001b[0;32mif\u001b[0m \u001b[0mgame_b\u001b[0m \u001b[0;34m==\u001b[0m \u001b[0mgame_a\u001b[0m\u001b[0;34m:\u001b[0m \u001b[0;32mcontinue\u001b[0m\u001b[0;34m\u001b[0m\u001b[0;34m\u001b[0m\u001b[0m\n\u001b[1;32m      7\u001b[0m         \u001b[0mplaytimes\u001b[0m\u001b[0;34m.\u001b[0m\u001b[0mappend\u001b[0m\u001b[0;34m(\u001b[0m\u001b[0mitem\u001b[0m\u001b[0;34m[\u001b[0m\u001b[0;34m'playtime_forever'\u001b[0m\u001b[0;34m]\u001b[0m\u001b[0;34m)\u001b[0m\u001b[0;34m\u001b[0m\u001b[0;34m\u001b[0m\u001b[0m\n\u001b[0;32m----> 8\u001b[0;31m         \u001b[0msimilarities\u001b[0m\u001b[0;34m.\u001b[0m\u001b[0mappend\u001b[0m\u001b[0;34m(\u001b[0m\u001b[0msim\u001b[0m\u001b[0;34m(\u001b[0m\u001b[0mgame_a\u001b[0m\u001b[0;34m,\u001b[0m \u001b[0mgame_b\u001b[0m\u001b[0;34m)\u001b[0m\u001b[0;34m)\u001b[0m\u001b[0;34m\u001b[0m\u001b[0;34m\u001b[0m\u001b[0m\n\u001b[0m\u001b[1;32m      9\u001b[0m \u001b[0;34m\u001b[0m\u001b[0m\n\u001b[1;32m     10\u001b[0m     \u001b[0;32mif\u001b[0m \u001b[0;34m(\u001b[0m\u001b[0msum\u001b[0m\u001b[0;34m(\u001b[0m\u001b[0msimilarities\u001b[0m\u001b[0;34m)\u001b[0m \u001b[0;34m>\u001b[0m \u001b[0;36m0\u001b[0m\u001b[0;34m)\u001b[0m\u001b[0;34m:\u001b[0m\u001b[0;34m\u001b[0m\u001b[0;34m\u001b[0m\u001b[0m\n",
      "\u001b[0;31mKeyboardInterrupt\u001b[0m: "
     ]
    }
   ],
   "source": [
    "jaccardPredictions = [markLabel(p[1], predictPlaytime(p[0], p[1], jaccard, meanPlaytime)) for p in pairs]"
   ]
  },
  {
   "cell_type": "code",
   "execution_count": null,
   "metadata": {},
   "outputs": [],
   "source": [
    "cosinePredictions = [markLabel(p[1], predictPlaytime(p[0], p[1], cosine, meanPlaytime)) for p in pairs[:10000]]"
   ]
  },
  {
   "cell_type": "code",
   "execution_count": null,
   "metadata": {},
   "outputs": [],
   "source": [
    "pearsonPredictions = [markLabel(p[1], predictPlaytime(p[0], p[1], pearson, meanPlaytime)) for p in pairs[:10000]]"
   ]
  },
  {
   "cell_type": "code",
   "execution_count": 101,
   "metadata": {},
   "outputs": [
    {
     "data": {
      "text/plain": [
       "0.327922077292033"
      ]
     },
     "execution_count": 101,
     "metadata": {},
     "output_type": "execute_result"
    }
   ],
   "source": [
    "percision(meanPredictions, labels)"
   ]
  },
  {
   "cell_type": "code",
   "execution_count": 102,
   "metadata": {},
   "outputs": [
    {
     "data": {
      "text/plain": [
       "0.5554179929438142"
      ]
     },
     "execution_count": 102,
     "metadata": {},
     "output_type": "execute_result"
    }
   ],
   "source": [
    "percision(medianPredictions, labels)"
   ]
  },
  {
   "cell_type": "code",
   "execution_count": null,
   "metadata": {},
   "outputs": [],
   "source": [
    "percision(jaccardPredictions, labels)"
   ]
  },
  {
   "cell_type": "code",
   "execution_count": null,
   "metadata": {},
   "outputs": [],
   "source": [
    "percision()"
   ]
  }
 ],
 "metadata": {
  "kernelspec": {
   "display_name": "Python 3",
   "language": "python",
   "name": "python3"
  },
  "language_info": {
   "codemirror_mode": {
    "name": "ipython",
    "version": 3
   },
   "file_extension": ".py",
   "mimetype": "text/x-python",
   "name": "python",
   "nbconvert_exporter": "python",
   "pygments_lexer": "ipython3",
   "version": "3.7.3"
  }
 },
 "nbformat": 4,
 "nbformat_minor": 2
}
