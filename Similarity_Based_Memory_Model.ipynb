{
 "cells": [
  {
   "cell_type": "code",
   "execution_count": 1,
   "metadata": {},
   "outputs": [],
   "source": [
    "import numpy as np\n",
    "import pandas as pd\n",
    "import json\n",
    "import ast\n",
    "import os\n",
    "import math\n",
    "import statistics\n",
    "import sklearn\n",
    "import scipy.spatial\n",
    "from collections import defaultdict\n",
    "from collections import Counter"
   ]
  },
  {
   "cell_type": "code",
   "execution_count": 2,
   "metadata": {},
   "outputs": [],
   "source": [
    "notebook_path = os.path.abspath(\"Similarity_Based_Memory_Model.ipynb\")\n",
    "users_items_file_path = os.path.join(os.path.dirname(notebook_path), \"data/australian_users_items.json\")\n",
    "items_file_path = os.path.join(os.path.dirname(notebook_path), \"data/items_meta_data.json\")"
   ]
  },
  {
   "cell_type": "code",
   "execution_count": 3,
   "metadata": {},
   "outputs": [],
   "source": [
    "users_items = []\n",
    "with open(users_items_file_path, 'r') as data:\n",
    "    for line in data:\n",
    "        users_items.append(ast.literal_eval(line))"
   ]
  },
  {
   "cell_type": "code",
   "execution_count": 4,
   "metadata": {},
   "outputs": [],
   "source": [
    "with open(items_file_path, 'r') as data:\n",
    "    games_dict = json.load(data)"
   ]
  },
  {
   "cell_type": "code",
   "execution_count": 5,
   "metadata": {},
   "outputs": [],
   "source": [
    "usersPerItem = defaultdict(set)\n",
    "itemsPerUser = defaultdict(set)\n",
    "playtimesPerItem = defaultdict(list)\n",
    "playtimesPerUser = defaultdict(list)\n",
    "itemNames = defaultdict(str)"
   ]
  },
  {
   "cell_type": "code",
   "execution_count": 6,
   "metadata": {},
   "outputs": [],
   "source": [
    "for game in games_dict:\n",
    "    if 'owners' in games_dict[game]:\n",
    "        usersPerItem[game] = set(games_dict[game]['owners'].keys())\n",
    "        for owner in games_dict[game]['owners']:\n",
    "            playtimesPerItem[game].append(games_dict[game]['owners'][owner])\n",
    "            playtimesPerUser[owner].append(games_dict[game]['owners'][owner])"
   ]
  },
  {
   "cell_type": "code",
   "execution_count": 7,
   "metadata": {},
   "outputs": [],
   "source": [
    "for user in users_items:\n",
    "    itemsPerUser[user['user_id']] = [item['item_id'] for item in user['items']]\n",
    "    for item in user['items']:\n",
    "        itemNames[item['item_id']] = item['item_name']"
   ]
  },
  {
   "cell_type": "markdown",
   "metadata": {},
   "source": [
    "# Similarity-Based Recommendations"
   ]
  },
  {
   "cell_type": "markdown",
   "metadata": {},
   "source": [
    "## Jaccard Similarity"
   ]
  },
  {
   "cell_type": "markdown",
   "metadata": {},
   "source": [
    "This is a generic implementation of the Jaccard similarity between two items: we find the union and intersection between their owners "
   ]
  },
  {
   "cell_type": "code",
   "execution_count": 8,
   "metadata": {},
   "outputs": [],
   "source": [
    "def jaccard(game_a_id, game_b_id):\n",
    "    owners_a = usersPerItem[game_a_id]\n",
    "    owners_b = usersPerItem[game_b_id]\n",
    "    \n",
    "    intersect_owners = owners_a.intersection(owners_b)\n",
    "    union_owners = owners_a.union(owners_b)\n",
    "    \n",
    "    if len(union_owners) == 0:\n",
    "        return 0\n",
    "    \n",
    "    return len(intersect_owners) / len(union_owners)"
   ]
  },
  {
   "cell_type": "code",
   "execution_count": 9,
   "metadata": {},
   "outputs": [],
   "source": [
    "def mostSimilarJaccard(game_a_id):\n",
    "    similarities = []\n",
    "    for game_b_id in games_dict:\n",
    "        if game_b_id == game_a_id: continue\n",
    "        sim = jaccard(game_a_id, game_b_id)\n",
    "        similarities.append((sim, game_b_id))\n",
    "    similarities.sort(reverse=True)\n",
    "    return similarities[:10]"
   ]
  },
  {
   "cell_type": "code",
   "execution_count": 10,
   "metadata": {},
   "outputs": [],
   "source": [
    "def mostSimilarJaccardFast(game_a_id):\n",
    "    similarities = []\n",
    "    users = usersPerItem[game_a_id]\n",
    "    candidateItems = set()\n",
    "    for user_id in users:\n",
    "        candidateItems = candidateItems.union(itemsPerUser[user_id])\n",
    "    for game_b_id in candidateItems:\n",
    "        if game_b_id == game_a_id: continue\n",
    "        sim = jaccard(game_a_id, game_b_id)\n",
    "        similarities.append((sim, game_b_id))\n",
    "    similarities.sort(reverse=True)\n",
    "    return similarities[:10]"
   ]
  },
  {
   "cell_type": "code",
   "execution_count": 11,
   "metadata": {},
   "outputs": [],
   "source": [
    "def mostSimilarNames(similarities):\n",
    "    return [itemNames[sim[1]] for sim in similarities]"
   ]
  },
  {
   "cell_type": "code",
   "execution_count": 12,
   "metadata": {},
   "outputs": [
    {
     "data": {
      "text/plain": [
       "['Half-Life: Blue Shift',\n",
       " 'Half-Life: Opposing Force',\n",
       " 'Team Fortress Classic',\n",
       " 'Half-Life: Source',\n",
       " 'Half-Life 2: Episode Two',\n",
       " 'Half-Life Deathmatch: Source',\n",
       " 'Half-Life 2: Episode One',\n",
       " 'Half-Life 2: Deathmatch',\n",
       " 'Half-Life 2',\n",
       " 'Half-Life 2: Lost Coast']"
      ]
     },
     "execution_count": 12,
     "metadata": {},
     "output_type": "execute_result"
    }
   ],
   "source": [
    "mostSimilarNames(mostSimilarJaccardFast('70'))"
   ]
  },
  {
   "cell_type": "markdown",
   "metadata": {},
   "source": [
    "## Cosine Similarity"
   ]
  },
  {
   "cell_type": "code",
   "execution_count": 13,
   "metadata": {},
   "outputs": [],
   "source": [
    "def count(game_a_id, game_b_id):\n",
    "    owners_a = usersPerItem[game_a_id]\n",
    "    owners_b = usersPerItem[game_b_id]\n",
    "    \n",
    "    counter_a = Counter(owners_a)\n",
    "    counter_b = Counter(owners_b)\n",
    "    \n",
    "    owners = owners_a.union(owners_b)\n",
    "    \n",
    "    return counter_a, counter_b, owners"
   ]
  },
  {
   "cell_type": "code",
   "execution_count": 19,
   "metadata": {},
   "outputs": [],
   "source": [
    "def cosine(game_a_id, game_b_id):\n",
    "    counter_a, counter_b, terms = count(game_a_id, game_b_id)\n",
    "    magA = [counter_a.get(k, 0) for k in terms]\n",
    "    magB = [counter_b.get(k, 0) for k in terms]\n",
    "    return scipy.spatial.distance.cosine(magA, magB)"
   ]
  },
  {
   "cell_type": "code",
   "execution_count": 20,
   "metadata": {},
   "outputs": [],
   "source": [
    "def mostSimilarCosine(game_a_id):\n",
    "    similarities = []\n",
    "    for game_b_id in games_dict:\n",
    "        if game_b_id == game_a_id or len(usersPerItem[game_b_id]) == 0: continue\n",
    "        sim = cosine(game_a_id, game_b_id)\n",
    "        similarities.append((sim, game_b_id))\n",
    "    similarities.sort(reverse=True)\n",
    "    return similarities[:10]"
   ]
  },
  {
   "cell_type": "code",
   "execution_count": 21,
   "metadata": {},
   "outputs": [
    {
     "data": {
      "text/plain": [
       "['Attack on Pearl Harbor',\n",
       " 'Simplz Zoo',\n",
       " \"Grim Tales: The Bride Collector's Edition\",\n",
       " 'CloudBound',\n",
       " 'Thick Air',\n",
       " 'Microcosmum: survival of cells - Soundtrack',\n",
       " \"Dark Parables: Curse of Briar Rose Collector's Edition\",\n",
       " 'Footbrawl Playground',\n",
       " 'Eclipse: New Dawn for the Galaxy',\n",
       " 'Toadled']"
      ]
     },
     "execution_count": 21,
     "metadata": {},
     "output_type": "execute_result"
    }
   ],
   "source": [
    "mostSimilarNames(mostSimilarCosine('70'))"
   ]
  },
  {
   "cell_type": "code",
   "execution_count": 22,
   "metadata": {},
   "outputs": [],
   "source": [
    "def arrayToDict(array, keyStr):\n",
    "    array_dict = {}\n",
    "    for element in array:\n",
    "        array_dict[element[keyStr]] = element\n",
    "    return array_dict"
   ]
  },
  {
   "cell_type": "code",
   "execution_count": 23,
   "metadata": {},
   "outputs": [],
   "source": [
    "users_dict = arrayToDict(users_items, 'user_id')"
   ]
  },
  {
   "cell_type": "code",
   "execution_count": 24,
   "metadata": {},
   "outputs": [],
   "source": [
    "def predictPlaytime(user, game_a, sim, default):\n",
    "    playtimes = []\n",
    "    similarities = []\n",
    "    for item in users_dict[user]['items']:\n",
    "        game_b = item['item_id']\n",
    "        if game_b == game_a: continue\n",
    "        playtimes.append(item['playtime_forever'])\n",
    "        similarities.append(sim(game_a, game_b))\n",
    "        \n",
    "    if (sum(similarities) > 0):\n",
    "        weightedPlaytime = [(x*y) for x,y in zip(playtimes, similarities)]\n",
    "        return sum(weightedPlaytime) / sum(similarities)\n",
    "    else:\n",
    "        return default"
   ]
  },
  {
   "cell_type": "code",
   "execution_count": 25,
   "metadata": {},
   "outputs": [],
   "source": [
    "def getPlaytime(users_items):\n",
    "    playtimes = []\n",
    "    for user in users_items:\n",
    "        for item in user['items']:\n",
    "            playtimes.append(item['playtime_forever'])\n",
    "            \n",
    "    return playtimes"
   ]
  },
  {
   "cell_type": "code",
   "execution_count": 26,
   "metadata": {},
   "outputs": [],
   "source": [
    "playtimes = getPlaytime(users_items)\n",
    "meanPlaytime = sum(playtimes) / len(playtimes)\n",
    "medianPlaytime = statistics.median(playtimes)"
   ]
  },
  {
   "cell_type": "code",
   "execution_count": 27,
   "metadata": {},
   "outputs": [],
   "source": [
    "def getPairsAndLabels(users_items):\n",
    "    pairs = []\n",
    "    labels = []\n",
    "    for user in users_items:\n",
    "        for item in user['items']:\n",
    "            pairs.append((user['user_id'], item['item_id']))\n",
    "            labels.append(item['playtime_forever'])\n",
    "    return pairs, labels"
   ]
  },
  {
   "cell_type": "code",
   "execution_count": 28,
   "metadata": {},
   "outputs": [],
   "source": [
    "pairs, label = getPairsAndLabels(users_items)"
   ]
  },
  {
   "cell_type": "code",
   "execution_count": 29,
   "metadata": {},
   "outputs": [],
   "source": [
    "def MSE(predictions, labels):\n",
    "    differences = [(x-y)**2 for x,y in zip(predictions,labels)]\n",
    "    return sum(differences) / len(differences)"
   ]
  },
  {
   "cell_type": "code",
   "execution_count": 30,
   "metadata": {},
   "outputs": [
    {
     "ename": "KeyboardInterrupt",
     "evalue": "",
     "output_type": "error",
     "traceback": [
      "\u001b[0;31m---------------------------------------------------------------------------\u001b[0m",
      "\u001b[0;31mKeyboardInterrupt\u001b[0m                         Traceback (most recent call last)",
      "\u001b[0;32m<ipython-input-30-9cd408157f46>\u001b[0m in \u001b[0;36m<module>\u001b[0;34m\u001b[0m\n\u001b[0;32m----> 1\u001b[0;31m \u001b[0mjaccardPredictions\u001b[0m \u001b[0;34m=\u001b[0m \u001b[0;34m[\u001b[0m\u001b[0mpredictPlaytime\u001b[0m\u001b[0;34m(\u001b[0m\u001b[0mp\u001b[0m\u001b[0;34m[\u001b[0m\u001b[0;36m0\u001b[0m\u001b[0;34m]\u001b[0m\u001b[0;34m,\u001b[0m \u001b[0mp\u001b[0m\u001b[0;34m[\u001b[0m\u001b[0;36m1\u001b[0m\u001b[0;34m]\u001b[0m\u001b[0;34m,\u001b[0m \u001b[0mjaccard\u001b[0m\u001b[0;34m,\u001b[0m \u001b[0mmeanPlaytime\u001b[0m\u001b[0;34m)\u001b[0m \u001b[0;32mfor\u001b[0m \u001b[0mp\u001b[0m \u001b[0;32min\u001b[0m \u001b[0mpairs\u001b[0m\u001b[0;34m]\u001b[0m\u001b[0;34m\u001b[0m\u001b[0;34m\u001b[0m\u001b[0m\n\u001b[0m",
      "\u001b[0;32m<ipython-input-30-9cd408157f46>\u001b[0m in \u001b[0;36m<listcomp>\u001b[0;34m(.0)\u001b[0m\n\u001b[0;32m----> 1\u001b[0;31m \u001b[0mjaccardPredictions\u001b[0m \u001b[0;34m=\u001b[0m \u001b[0;34m[\u001b[0m\u001b[0mpredictPlaytime\u001b[0m\u001b[0;34m(\u001b[0m\u001b[0mp\u001b[0m\u001b[0;34m[\u001b[0m\u001b[0;36m0\u001b[0m\u001b[0;34m]\u001b[0m\u001b[0;34m,\u001b[0m \u001b[0mp\u001b[0m\u001b[0;34m[\u001b[0m\u001b[0;36m1\u001b[0m\u001b[0;34m]\u001b[0m\u001b[0;34m,\u001b[0m \u001b[0mjaccard\u001b[0m\u001b[0;34m,\u001b[0m \u001b[0mmeanPlaytime\u001b[0m\u001b[0;34m)\u001b[0m \u001b[0;32mfor\u001b[0m \u001b[0mp\u001b[0m \u001b[0;32min\u001b[0m \u001b[0mpairs\u001b[0m\u001b[0;34m]\u001b[0m\u001b[0;34m\u001b[0m\u001b[0;34m\u001b[0m\u001b[0m\n\u001b[0m",
      "\u001b[0;32m<ipython-input-24-ad40ff1a9d5a>\u001b[0m in \u001b[0;36mpredictPlaytime\u001b[0;34m(user, game_a, sim, default)\u001b[0m\n\u001b[1;32m      6\u001b[0m         \u001b[0;32mif\u001b[0m \u001b[0mgame_b\u001b[0m \u001b[0;34m==\u001b[0m \u001b[0mgame_a\u001b[0m\u001b[0;34m:\u001b[0m \u001b[0;32mcontinue\u001b[0m\u001b[0;34m\u001b[0m\u001b[0;34m\u001b[0m\u001b[0m\n\u001b[1;32m      7\u001b[0m         \u001b[0mplaytimes\u001b[0m\u001b[0;34m.\u001b[0m\u001b[0mappend\u001b[0m\u001b[0;34m(\u001b[0m\u001b[0mitem\u001b[0m\u001b[0;34m[\u001b[0m\u001b[0;34m'playtime_forever'\u001b[0m\u001b[0;34m]\u001b[0m\u001b[0;34m)\u001b[0m\u001b[0;34m\u001b[0m\u001b[0;34m\u001b[0m\u001b[0m\n\u001b[0;32m----> 8\u001b[0;31m         \u001b[0msimilarities\u001b[0m\u001b[0;34m.\u001b[0m\u001b[0mappend\u001b[0m\u001b[0;34m(\u001b[0m\u001b[0msim\u001b[0m\u001b[0;34m(\u001b[0m\u001b[0mgame_a\u001b[0m\u001b[0;34m,\u001b[0m \u001b[0mgame_b\u001b[0m\u001b[0;34m)\u001b[0m\u001b[0;34m)\u001b[0m\u001b[0;34m\u001b[0m\u001b[0;34m\u001b[0m\u001b[0m\n\u001b[0m\u001b[1;32m      9\u001b[0m \u001b[0;34m\u001b[0m\u001b[0m\n\u001b[1;32m     10\u001b[0m     \u001b[0;32mif\u001b[0m \u001b[0;34m(\u001b[0m\u001b[0msum\u001b[0m\u001b[0;34m(\u001b[0m\u001b[0msimilarities\u001b[0m\u001b[0;34m)\u001b[0m \u001b[0;34m>\u001b[0m \u001b[0;36m0\u001b[0m\u001b[0;34m)\u001b[0m\u001b[0;34m:\u001b[0m\u001b[0;34m\u001b[0m\u001b[0;34m\u001b[0m\u001b[0m\n",
      "\u001b[0;31mKeyboardInterrupt\u001b[0m: "
     ]
    }
   ],
   "source": [
    "jaccardPredictions = [predictPlaytime(p[0], p[1], jaccard, meanPlaytime) for p in pairs]"
   ]
  },
  {
   "cell_type": "code",
   "execution_count": null,
   "metadata": {},
   "outputs": [],
   "source": [
    "MSE(jaccardPredictions, labels)"
   ]
  }
 ],
 "metadata": {
  "kernelspec": {
   "display_name": "Python 3",
   "language": "python",
   "name": "python3"
  },
  "language_info": {
   "codemirror_mode": {
    "name": "ipython",
    "version": 3
   },
   "file_extension": ".py",
   "mimetype": "text/x-python",
   "name": "python",
   "nbconvert_exporter": "python",
   "pygments_lexer": "ipython3",
   "version": "3.7.3"
  }
 },
 "nbformat": 4,
 "nbformat_minor": 2
}
